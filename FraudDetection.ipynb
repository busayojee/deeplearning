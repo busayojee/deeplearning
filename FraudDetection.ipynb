{
  "nbformat": 4,
  "nbformat_minor": 0,
  "metadata": {
    "colab": {
      "provenance": [],
      "authorship_tag": "ABX9TyOkWgCTwuhJGBBANQf/MnVk",
      "include_colab_link": true
    },
    "kernelspec": {
      "name": "python3",
      "display_name": "Python 3"
    },
    "language_info": {
      "name": "python"
    },
    "gpuClass": "standard"
  },
  "cells": [
    {
      "cell_type": "markdown",
      "metadata": {
        "id": "view-in-github",
        "colab_type": "text"
      },
      "source": [
        "<a href=\"https://colab.research.google.com/github/busayojee/deeplearning/blob/main/FraudDetection.ipynb\" target=\"_parent\"><img src=\"https://colab.research.google.com/assets/colab-badge.svg\" alt=\"Open In Colab\"/></a>"
      ]
    },
    {
      "cell_type": "code",
      "execution_count": null,
      "metadata": {
        "id": "kix-1LJZCxyG"
      },
      "outputs": [],
      "source": [
        "import pandas as pd\n",
        "import tensorflow as tf\n",
        "from sklearn.preprocessing import StandardScaler\n",
        "from sklearn.model_selection import train_test_split\n",
        "import numpy as np\n",
        "import matplotlib.pyplot as plt\n",
        "\n",
        "\n"
      ]
    },
    {
      "cell_type": "markdown",
      "source": [
        "Data Engineering"
      ],
      "metadata": {
        "id": "7jIrXtv9DYiG"
      }
    },
    {
      "cell_type": "code",
      "source": [
        "data = \"creditcard.csv\"\n",
        "def split():\n",
        "  dt = pd.read_csv(data, header=0)\n",
        "  print(dt.head())\n",
        "  dt.drop('Time', axis=1, inplace=True)\n",
        "  print(dt.head())\n",
        "  # print(dt.info())\n",
        "  # # print(dt.isna().sum(axis=0))\n",
        "  # # print(dt.isna().sum(axis=1))\n",
        "  # # print(dt.isnull().sum())\n",
        "  # dt = dt.sample(frac=1)\n",
        "  print(dt.shape)\n",
        "\n",
        "  # splitting into train test val\n",
        "  train, test = train_test_split(dt, test_size=0.3)\n",
        "  train.to_csv(\"train.csv\")\n",
        "  test.to_csv(\"test.csv\")\n",
        "  print(train.shape)\n",
        "  print(test.shape)\n",
        "\n",
        "split()"
      ],
      "metadata": {
        "id": "6Gk_twOuDchc",
        "colab": {
          "base_uri": "https://localhost:8080/"
        },
        "outputId": "09956cd1-4f47-42ab-a4a9-d36e217ffc9e"
      },
      "execution_count": null,
      "outputs": [
        {
          "output_type": "stream",
          "name": "stdout",
          "text": [
            "   Time        V1        V2        V3        V4        V5        V6        V7  \\\n",
            "0   0.0 -1.359807 -0.072781  2.536347  1.378155 -0.338321  0.462388  0.239599   \n",
            "1   0.0  1.191857  0.266151  0.166480  0.448154  0.060018 -0.082361 -0.078803   \n",
            "2   1.0 -1.358354 -1.340163  1.773209  0.379780 -0.503198  1.800499  0.791461   \n",
            "3   1.0 -0.966272 -0.185226  1.792993 -0.863291 -0.010309  1.247203  0.237609   \n",
            "4   2.0 -1.158233  0.877737  1.548718  0.403034 -0.407193  0.095921  0.592941   \n",
            "\n",
            "         V8        V9  ...       V21       V22       V23       V24       V25  \\\n",
            "0  0.098698  0.363787  ... -0.018307  0.277838 -0.110474  0.066928  0.128539   \n",
            "1  0.085102 -0.255425  ... -0.225775 -0.638672  0.101288 -0.339846  0.167170   \n",
            "2  0.247676 -1.514654  ...  0.247998  0.771679  0.909412 -0.689281 -0.327642   \n",
            "3  0.377436 -1.387024  ... -0.108300  0.005274 -0.190321 -1.175575  0.647376   \n",
            "4 -0.270533  0.817739  ... -0.009431  0.798278 -0.137458  0.141267 -0.206010   \n",
            "\n",
            "        V26       V27       V28  Amount  Class  \n",
            "0 -0.189115  0.133558 -0.021053  149.62      0  \n",
            "1  0.125895 -0.008983  0.014724    2.69      0  \n",
            "2 -0.139097 -0.055353 -0.059752  378.66      0  \n",
            "3 -0.221929  0.062723  0.061458  123.50      0  \n",
            "4  0.502292  0.219422  0.215153   69.99      0  \n",
            "\n",
            "[5 rows x 31 columns]\n",
            "         V1        V2        V3        V4        V5        V6        V7  \\\n",
            "0 -1.359807 -0.072781  2.536347  1.378155 -0.338321  0.462388  0.239599   \n",
            "1  1.191857  0.266151  0.166480  0.448154  0.060018 -0.082361 -0.078803   \n",
            "2 -1.358354 -1.340163  1.773209  0.379780 -0.503198  1.800499  0.791461   \n",
            "3 -0.966272 -0.185226  1.792993 -0.863291 -0.010309  1.247203  0.237609   \n",
            "4 -1.158233  0.877737  1.548718  0.403034 -0.407193  0.095921  0.592941   \n",
            "\n",
            "         V8        V9       V10  ...       V21       V22       V23       V24  \\\n",
            "0  0.098698  0.363787  0.090794  ... -0.018307  0.277838 -0.110474  0.066928   \n",
            "1  0.085102 -0.255425 -0.166974  ... -0.225775 -0.638672  0.101288 -0.339846   \n",
            "2  0.247676 -1.514654  0.207643  ...  0.247998  0.771679  0.909412 -0.689281   \n",
            "3  0.377436 -1.387024 -0.054952  ... -0.108300  0.005274 -0.190321 -1.175575   \n",
            "4 -0.270533  0.817739  0.753074  ... -0.009431  0.798278 -0.137458  0.141267   \n",
            "\n",
            "        V25       V26       V27       V28  Amount  Class  \n",
            "0  0.128539 -0.189115  0.133558 -0.021053  149.62      0  \n",
            "1  0.167170  0.125895 -0.008983  0.014724    2.69      0  \n",
            "2 -0.327642 -0.139097 -0.055353 -0.059752  378.66      0  \n",
            "3  0.647376 -0.221929  0.062723  0.061458  123.50      0  \n",
            "4 -0.206010  0.502292  0.219422  0.215153   69.99      0  \n",
            "\n",
            "[5 rows x 30 columns]\n",
            "(284807, 30)\n",
            "(199364, 30)\n",
            "(85443, 30)\n"
          ]
        }
      ]
    },
    {
      "cell_type": "markdown",
      "source": [
        "Loading the data into a dictionary\n"
      ],
      "metadata": {
        "id": "apbaKV7aKmj2"
      }
    },
    {
      "cell_type": "code",
      "source": [
        "def load_data():\n",
        "  train = pd.read_csv(\"train.csv\")\n",
        "  test = pd.read_csv(\"test.csv\")\n",
        "  train = train.drop(\"Unnamed: 0\", axis=1)\n",
        "  test = test.drop(\"Unnamed: 0\", axis=1)\n",
        "  \n",
        "  print(train.Class.value_counts())\n",
        "  print(test.Class.value_counts())\n",
        "\n",
        "  data = {}\n",
        "  data[\"train_y\"] = train.pop(\"Class\")\n",
        "  data[\"test_y\"] = test.pop(\"Class\")\n",
        "\n",
        "  scaler = StandardScaler()\n",
        "  train = scaler.fit_transform(train)\n",
        "  test = scaler.transform(test)\n",
        "\n",
        "  data[\"train_x\"] = train\n",
        "  data[\"test_x\"] = test\n",
        "  data[\"scaler\"] = scaler\n",
        "  print(data[\"scaler\"])\n",
        "  return data\n",
        "\n",
        "data = load_data()\n",
        "# print(data[\"scaler\"])\n",
        "# print(data[\"train_y\"].shape)\n",
        "# print(data[\"train_x\"].shape)\n",
        "# print(data[\"train_y\"])\n",
        "\n",
        "\n"
      ],
      "metadata": {
        "colab": {
          "base_uri": "https://localhost:8080/"
        },
        "id": "mqYa9c7IKpno",
        "outputId": "4c492433-157a-4c9c-b5b8-07cf9cec8b30"
      },
      "execution_count": null,
      "outputs": [
        {
          "output_type": "stream",
          "name": "stdout",
          "text": [
            "0    199024\n",
            "1       340\n",
            "Name: Class, dtype: int64\n",
            "0    85291\n",
            "1      152\n",
            "Name: Class, dtype: int64\n",
            "StandardScaler()\n"
          ]
        }
      ]
    },
    {
      "cell_type": "markdown",
      "source": [
        "Building the Model"
      ],
      "metadata": {
        "id": "iLGiqvxzN1VL"
      }
    },
    {
      "cell_type": "code",
      "source": [
        "from tensorflow.python import metrics\n",
        "def model(input_features):\n",
        "  # fraud7 with metrics Recall at precision\n",
        "  input = tf.keras.layers.Input(shape=(input_features,))\n",
        "  x = tf.keras.layers.Dense(128, activation='relu', kernel_initializer='he_uniform', use_bias=True, kernel_regularizer = tf.keras.regularizers.l2(0.01))(input)\n",
        "  x = tf.keras.layers.BatchNormalization()(x)\n",
        "  x = tf.keras.layers.Dropout(0.5)(x)\n",
        "  x = tf.keras.layers.Dense(64, activation='relu', kernel_initializer='he_uniform', use_bias=True,  kernel_regularizer=tf.keras.regularizers.l2(0.01))(x)\n",
        "  x = tf.keras.layers.BatchNormalization()(x)\n",
        "  x = tf.keras.layers.Dropout(0.5)(x)\n",
        "  output = tf.keras.layers.Dense(1, activation='sigmoid')(x)\n",
        "  model = tf.keras.Model(inputs =input, outputs=output)\n",
        "  model.compile(optimizer=tf.keras.optimizers.Adam(learning_rate=0.001), loss = \"binary_crossentropy\", metrics = [\"accuracy\"])\n",
        "  return model\n",
        "\n",
        "m = model(29)\n",
        "\n",
        "print(m.summary())\n",
        "\n",
        "\n",
        "\n",
        "\n",
        "  "
      ],
      "metadata": {
        "id": "ZKW6eb1lN3OY",
        "colab": {
          "base_uri": "https://localhost:8080/"
        },
        "outputId": "d9d569d8-6e84-41e5-d1b7-f7c034f97602"
      },
      "execution_count": null,
      "outputs": [
        {
          "output_type": "stream",
          "name": "stdout",
          "text": [
            "Model: \"model_2\"\n",
            "_________________________________________________________________\n",
            " Layer (type)                Output Shape              Param #   \n",
            "=================================================================\n",
            " input_3 (InputLayer)        [(None, 29)]              0         \n",
            "                                                                 \n",
            " dense_6 (Dense)             (None, 128)               3840      \n",
            "                                                                 \n",
            " batch_normalization_4 (Batc  (None, 128)              512       \n",
            " hNormalization)                                                 \n",
            "                                                                 \n",
            " dropout_4 (Dropout)         (None, 128)               0         \n",
            "                                                                 \n",
            " dense_7 (Dense)             (None, 64)                8256      \n",
            "                                                                 \n",
            " batch_normalization_5 (Batc  (None, 64)               256       \n",
            " hNormalization)                                                 \n",
            "                                                                 \n",
            " dropout_5 (Dropout)         (None, 64)                0         \n",
            "                                                                 \n",
            " dense_8 (Dense)             (None, 1)                 65        \n",
            "                                                                 \n",
            "=================================================================\n",
            "Total params: 12,929\n",
            "Trainable params: 12,545\n",
            "Non-trainable params: 384\n",
            "_________________________________________________________________\n",
            "None\n"
          ]
        }
      ]
    },
    {
      "cell_type": "markdown",
      "source": [
        "Training the model"
      ],
      "metadata": {
        "id": "6EcIs3UcZCjo"
      }
    },
    {
      "cell_type": "code",
      "source": [
        "# Creating callback\n",
        "def checkpoint():\n",
        "  tensorboard = tf.keras.callbacks.TensorBoard(log_dir='logs1', write_graph = True, write_grads = False)\n",
        "  early_stopping = tf.keras.callbacks.EarlyStopping(monitor='val_loss', patience=4)\n",
        "  reduce_lr = tf.keras.callbacks.ReduceLROnPlateau(monitor='val_loss', factor=0.2, patience=4, min_lr=0.0001)\n",
        "  return [tensorboard, early_stopping, reduce_lr]"
      ],
      "metadata": {
        "id": "Mz8CQPHhZEBW"
      },
      "execution_count": null,
      "outputs": []
    },
    {
      "cell_type": "code",
      "source": [
        "# training the data\n",
        "data = load_data()\n",
        "input = data[\"train_x\"].shape[1]\n",
        "print(input)\n",
        "models = model(input_features = input)\n",
        "callbacks = checkpoint()\n",
        "models.fit(x = data[\"train_x\"], y = data[\"train_y\"], batch_size = 64, epochs=30, verbose=1, validation_split = 0.2, callbacks = callbacks)\n",
        "models.save(\"fraud4.h5\")\n",
        "\n"
      ],
      "metadata": {
        "id": "2pdHC_G0Zg0k"
      },
      "execution_count": null,
      "outputs": []
    },
    {
      "cell_type": "code",
      "source": [
        "%load_ext tensorboard"
      ],
      "metadata": {
        "id": "-N7Qokh3eyMp"
      },
      "execution_count": null,
      "outputs": []
    },
    {
      "cell_type": "code",
      "source": [
        "%tensorboard --logdir logs1"
      ],
      "metadata": {
        "id": "1aO4EORZezst"
      },
      "execution_count": null,
      "outputs": []
    },
    {
      "cell_type": "code",
      "source": [
        "model = tf.keras.models.load_model(\"fraud7.h5\")\n",
        "prediction = model.predict(data[\"test_x\"])"
      ],
      "metadata": {
        "colab": {
          "base_uri": "https://localhost:8080/"
        },
        "id": "exUpN4q8gsL4",
        "outputId": "dfb3b158-9a29-4219-c0da-e77fff363236"
      },
      "execution_count": null,
      "outputs": [
        {
          "output_type": "stream",
          "name": "stdout",
          "text": [
            "2671/2671 [==============================] - 6s 2ms/step\n"
          ]
        }
      ]
    },
    {
      "cell_type": "code",
      "source": [
        "df_ans = pd.DataFrame({'Real Class' :data[\"test_y\"]})\n",
        "df_ans['Prediction'] = prediction >0.5\n",
        "df_ans[ df_ans['Real Class'] != df_ans['Prediction'] ]\n",
        "# Convert predictions to binary labels (0 or 1)\n",
        "predictions = prediction > 0.5\n",
        "\n",
        "predictions = predictions.reshape(-1)\n",
        "# Plot a graph to show the correct predictions\n",
        "y_test = data[\"test_y\"]\n",
        "# Plot a graph to show the correct predictions\n",
        "plt.scatter(range(len(predictions)), predictions, c=predictions == y_test)\n",
        "plt.xlabel('Sample Index')\n",
        "plt.ylabel('Prediction')\n",
        "plt.title('Correct Predictions')\n",
        "plt.show()"
      ],
      "metadata": {
        "colab": {
          "base_uri": "https://localhost:8080/",
          "height": 295
        },
        "id": "J0LqwdxX-U53",
        "outputId": "ac8cfbd9-bbfe-454f-b2a6-3778a4e8d0dd"
      },
      "execution_count": null,
      "outputs": [
        {
          "output_type": "display_data",
          "data": {
            "text/plain": [
              "<Figure size 432x288 with 1 Axes>"
            ],
            "image/png": "[encoded data removed]"
          },
          "metadata": {
            "needs_background": "light"
          }
        }
      ]
    },
    {
      "cell_type": "code",
      "source": [
        "df_ans['Prediction'].value_counts()"
      ],
      "metadata": {
        "id": "V5nHM4Z7BSnv",
        "outputId": "81a9af29-2763-4b34-d922-f8f20c677450",
        "colab": {
          "base_uri": "https://localhost:8080/"
        }
      },
      "execution_count": null,
      "outputs": [
        {
          "output_type": "execute_result",
          "data": {
            "text/plain": [
              "False    85323\n",
              "True       120\n",
              "Name: Prediction, dtype: int64"
            ]
          },
          "metadata": {},
          "execution_count": 15
        }
      ]
    },
    {
      "cell_type": "code",
      "source": [
        "from sklearn.metrics import confusion_matrix\n",
        "import seaborn as sns\n",
        "\n",
        "# Compute the confusion matrix\n",
        "cm = confusion_matrix(y_test, predictions)\n",
        "\n",
        "# Plot the confusion matrix using seaborn heatmap\n",
        "sns.heatmap(cm, annot = True, fmt = 'd')\n",
        "plt.xlabel('Predicted label')\n",
        "plt.ylabel('True label')\n",
        "plt.title('Confusion Matrix')\n",
        "plt.show()\n",
        "# fraud 7"
      ],
      "metadata": {
        "id": "FAqBCLYJvSUE"
      },
      "execution_count": null,
      "outputs": []
    },
    {
      "cell_type": "markdown",
      "source": [
        "Testing with single input instances from the test data"
      ],
      "metadata": {
        "id": "bo7u-uhTrYlv"
      }
    },
    {
      "cell_type": "code",
      "source": [
        "test = pd.read_csv(\"test.csv\")\n",
        "test = test.drop(\"Unnamed: 0\", axis=1)\n",
        "\n",
        "test = test.iloc[469]\n",
        "test_y = test.pop(\"Class\")\n",
        "input = test.values\n",
        "print(input)\n",
        "print(test_y)\n"
      ],
      "metadata": {
        "colab": {
          "base_uri": "https://localhost:8080/"
        },
        "id": "pHX25HwSaV-m",
        "outputId": "7e96eacc-4cc3-4c6b-d2e8-ef486ccae915"
      },
      "execution_count": null,
      "outputs": [
        {
          "output_type": "stream",
          "name": "stdout",
          "text": [
            "[-2.74048250e+00  3.65809482e+00 -4.11063552e+00  5.34024167e+00\n",
            " -2.66677476e+00 -9.27818149e-02 -4.38869881e+00 -2.80132706e-01\n",
            " -2.82189458e+00 -4.46628416e+00  3.96979981e+00 -7.34671679e+00\n",
            " -1.16331177e+00 -8.22556891e+00  8.25001832e-01 -6.77286703e+00\n",
            " -8.81578543e+00 -4.56885928e+00  1.12659866e+00  1.85325270e-01\n",
            "  2.41749541e+00 -9.77119509e-02  3.82154507e-01 -1.54756520e-01\n",
            " -4.03955926e-01  2.77894930e-01  8.30061639e-01  2.18690442e-01\n",
            "  1.12330000e+02]\n",
            "1.0\n"
          ]
        }
      ]
    },
    {
      "cell_type": "code",
      "source": [
        "\n",
        "scaler = data[\"scaler\"]\n",
        "print(test_y)\n",
        "input = input.reshape(1,-1)\n",
        "scaled = scaler.transform(input)\n",
        "print(scaled.shape)\n",
        "\n",
        "prediction = model.predict(scaled)\n",
        "# print(predictions)\n",
        "print(prediction)\n",
        "if test_y == (prediction > 0.5):\n",
        "    print(\"The prediction is correct.\")\n",
        "else:\n",
        "    print(\"The prediction is incorrect.\")"
      ],
      "metadata": {
        "colab": {
          "base_uri": "https://localhost:8080/"
        },
        "id": "aHsUeQxNX0va",
        "outputId": "17af9e75-91db-4937-a03f-7673de60b144"
      },
      "execution_count": null,
      "outputs": [
        {
          "output_type": "stream",
          "name": "stdout",
          "text": [
            "1.0\n",
            "(1, 29)\n",
            "1/1 [==============================] - 0s 14ms/step\n",
            "[[1.]]\n",
            "The prediction is correct.\n"
          ]
        },
        {
          "output_type": "stream",
          "name": "stderr",
          "text": [
            "/usr/local/lib/python3.8/dist-packages/sklearn/base.py:450: UserWarning: X does not have valid feature names, but StandardScaler was fitted with feature names\n",
            "  warnings.warn(\n"
          ]
        }
      ]
    },
    {
      "cell_type": "code",
      "source": [
        "xtest = data[\"test_x\"]\n",
        "ytest = data[\"test_y\"]\n",
        "scaler = data[\"scaler\"]\n",
        "\n",
        "xtest_inst = xtest[469:470]\n",
        "ytest_int = ytest[469:470]\n",
        "predictions = model.predict(xtest_inst)\n",
        "print(ytest_int.values[0])\n",
        "print(int(predictions))\n",
        "\n"
      ],
      "metadata": {
        "colab": {
          "base_uri": "https://localhost:8080/"
        },
        "id": "sW6eES_BjcSz",
        "outputId": "e15c6ca5-8d0a-4da1-aa6c-948030671c31"
      },
      "execution_count": null,
      "outputs": [
        {
          "output_type": "stream",
          "name": "stdout",
          "text": [
            "1/1 [==============================] - 2s 2s/step\n",
            "1\n",
            "1\n"
          ]
        }
      ]
    },
    {
      "cell_type": "markdown",
      "source": [
        "Hyperparameter Tuning Using random search (Run only once because of the time it takes)"
      ],
      "metadata": {
        "id": "5bx8LV2-z7he"
      }
    },
    {
      "cell_type": "code",
      "source": [
        "# from sklearn.model_selection import RandomizedSearchCV\n",
        "\n",
        "# # specify the hyperparameters and the possible values\n",
        "# def create_model(optimizer='adam'):\n",
        "#     model = tf.keras.Sequential()\n",
        "#     model.add(tf.keras.layers.Dense(128, activation='relu', kernel_initializer='uniform', kernel_regularizer=tf.keras.regularizers.l2(0.01)))\n",
        "#     model.add(tf.keras.layers.Dropout(0.5))\n",
        "#     model.add(tf.keras.layers.Dense(64, activation='relu', kernel_initializer='uniform', kernel_regularizer=tf.keras.regularizers.l2(0.01)))\n",
        "#     model.add(tf.keras.layers.Dropout(0.5))\n",
        "#     model.add(tf.keras.layers.Dense(1, activation='sigmoid'))\n",
        "#     model.compile(optimizer=optimizer, loss = \"binary_crossentropy\", metrics = [\"accuracy\"])\n",
        "#     return model\n",
        "\n",
        "# param_grid = {'epochs': [10, 20, 30], 'batch_size': [32, 64, 128], \n",
        "#               'optimizer': ['Adam','RMSprop']}\n",
        "# estimator = tf.keras.wrappers.scikit_learn.KerasClassifier(build_fn=create_model)\n",
        "# grid = RandomizedSearchCV(estimator=estimator, param_distributions=param_grid, n_iter=10, cv=3, n_jobs=-1)\n",
        "# grid.fit(data[\"train_x\"], data[\"train_y\"])"
      ],
      "metadata": {
        "id": "9t4tL4MAz7Kf"
      },
      "execution_count": null,
      "outputs": []
    },
    {
      "cell_type": "code",
      "source": [
        "best_params = grid.best_params_\n",
        "print(best_params)"
      ],
      "metadata": {
        "colab": {
          "base_uri": "https://localhost:8080/"
        },
        "id": "lj5-pttPFE6d",
        "outputId": "9d9e8a8f-f3f8-415e-a301-4d7fbaf13348"
      },
      "execution_count": null,
      "outputs": [
        {
          "output_type": "stream",
          "name": "stdout",
          "text": [
            "{'optimizer': 'Adam', 'epochs': 30, 'batch_size': 64}\n"
          ]
        }
      ]
    },
    {
      "cell_type": "markdown",
      "source": [
        "Deploying the model using FLASK API"
      ],
      "metadata": {
        "id": "joCFLcxGTVa7"
      }
    },
    {
      "cell_type": "code",
      "source": [
        "!pip install --upgrade flask-ngrok"
      ],
      "metadata": {
        "id": "wqPfKejwx3X9"
      },
      "execution_count": null,
      "outputs": []
    },
    {
      "cell_type": "code",
      "source": [
        "from flask import Flask, render_template, request\n",
        "from flask_ngrok import run_with_ngrok\n",
        "from pyngrok import ngrok"
      ],
      "metadata": {
        "id": "LV_BWKiKmPcv"
      },
      "execution_count": null,
      "outputs": []
    },
    {
      "cell_type": "code",
      "source": [
        " !pip install pyngrok"
      ],
      "metadata": {
        "id": "9-Lyhw7Y_fxm"
      },
      "execution_count": null,
      "outputs": []
    },
    {
      "cell_type": "code",
      "source": [
        "!ngrok authtoken 1k9L5QgWAlcGov4IeWwaJBsc6gK_7RDCMELZb76jKjMw6y17o"
      ],
      "metadata": {
        "colab": {
          "base_uri": "https://localhost:8080/"
        },
        "id": "L6AbwmxIBYUu",
        "outputId": "7cf7f69b-fc9c-4b58-9fac-6fa80d146d22"
      },
      "execution_count": null,
      "outputs": [
        {
          "output_type": "stream",
          "name": "stdout",
          "text": [
            "Authtoken saved to configuration file: /root/.ngrok2/ngrok.yml\n"
          ]
        }
      ]
    },
    {
      "cell_type": "code",
      "source": [
        "!ngrok http 5000 --host-header rewrite"
      ],
      "metadata": {
        "id": "b93NmVa6CJfn"
      },
      "execution_count": null,
      "outputs": []
    },
    {
      "cell_type": "code",
      "source": [
        "app = Flask(__name__)\n",
        "# ngrok.connect(host=\"127.0.0.1:5000\", auth_token=\"1k9L5QgWAlcGov4IeWwaJBsc6gK_7RDCMELZb76jKjMw6y17o\")\n",
        "run_with_ngrok(app)\n",
        "# load your model\n",
        "model = tf.keras.models.load_model(\"fraud4.h5\")\n",
        "scaler = data[\"scaler\"]\n",
        "@app.route('/')\n",
        "def form():\n",
        "    return render_template('form.html')\n",
        "    # return \"Hello\"\n",
        "\n",
        "@app.route('/predict', methods=['POST'])\n",
        "def predict():\n",
        "    # get the input values from the form\n",
        "    input_values = [request.form[str(i)] for i in range(1,30)]\n",
        "    \n",
        "    # convert the input values to a numpy array\n",
        "    input_values = np.array(input_values).reshape(1, -1)\n",
        "    input_values = scaler.transform(input_values)\n",
        "    # make a prediction\n",
        "    prediction = model.predict(input_values)\n",
        "    \n",
        "    # return the prediction\n",
        "    return str(prediction[0][0])\n",
        "\n",
        "# if __name__ == '__main__':\n",
        "    # app.run(debug=True, port=80)\n",
        "\n",
        "app.run()"
      ],
      "metadata": {
        "id": "quImYd8artqt"
      },
      "execution_count": null,
      "outputs": []
    }
  ]
}