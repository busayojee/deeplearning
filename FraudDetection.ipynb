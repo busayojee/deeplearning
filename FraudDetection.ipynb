{
  "nbformat": 4,
  "nbformat_minor": 0,
  "metadata": {
    "colab": {
      "provenance": [],
      "mount_file_id": "12tbZ4Yq4F-NZXQn3e26wvUZbLvKa46Q7",
      "authorship_tag": "ABX9TyOx57XofYt/BWdWQf4E2FxY",
      "include_colab_link": true
    },
    "kernelspec": {
      "name": "python3",
      "display_name": "Python 3"
    },
    "language_info": {
      "name": "python"
    },
    "gpuClass": "standard"
  },
  "cells": [
    {
      "cell_type": "markdown",
      "metadata": {
        "id": "view-in-github",
        "colab_type": "text"
      },
      "source": [
        "<a href=\"https://colab.research.google.com/github/busayojee/deeplearning/blob/main/FraudDetection.ipynb\" target=\"_parent\"><img src=\"https://colab.research.google.com/assets/colab-badge.svg\" alt=\"Open In Colab\"/></a>"
      ]
    },
    {
      "cell_type": "code",
      "execution_count": null,
      "metadata": {
        "id": "kix-1LJZCxyG"
      },
      "outputs": [],
      "source": [
        "import pandas as pd\n",
        "import tensorflow as tf\n",
        "from sklearn.preprocessing import StandardScaler\n",
        "from sklearn.model_selection import train_test_split\n",
        "import numpy as np\n",
        "import matplotlib.pyplot as plt\n",
        "\n",
        "\n"
      ]
    },
    {
      "cell_type": "markdown",
      "source": [
        "Data Engineering"
      ],
      "metadata": {
        "id": "7jIrXtv9DYiG"
      }
    },
    {
      "cell_type": "code",
      "source": [
        "data = \"/content/drive/MyDrive/creditcard.csv\"\n",
        "def split():\n",
        "  dt = pd.read_csv(data, header=0)\n",
        "  print(dt.head())\n",
        "  dt.drop('Time', axis=1, inplace=True)\n",
        "  print(dt.head())\n",
        "  print(dt.iloc(1))\n",
        "  # print(dt.info())\n",
        "  # # print(dt.isna().sum(axis=0))\n",
        "  # # print(dt.isna().sum(axis=1))\n",
        "  # # print(dt.isnull().sum())\n",
        "  # dt = dt.sample(frac=1)\n",
        "  print(dt.shape)\n",
        "\n",
        "  # splitting into train test val\n",
        "  train, test = train_test_split(dt, test_size=0.3)\n",
        "  train.to_csv(\"train.csv\")\n",
        "  test.to_csv(\"test.csv\")\n",
        "  print(train.shape)\n",
        "  print(test.shape)\n",
        "\n",
        "split()"
      ],
      "metadata": {
        "id": "6Gk_twOuDchc",
        "colab": {
          "base_uri": "https://localhost:8080/"
        },
        "outputId": "d59e1d78-273c-48b3-e226-54d9feba1b66"
      },
      "execution_count": null,
      "outputs": [
        {
          "output_type": "stream",
          "name": "stdout",
          "text": [
            "   Time        V1        V2        V3        V4        V5        V6        V7  \\\n",
            "0   0.0 -1.359807 -0.072781  2.536347  1.378155 -0.338321  0.462388  0.239599   \n",
            "1   0.0  1.191857  0.266151  0.166480  0.448154  0.060018 -0.082361 -0.078803   \n",
            "2   1.0 -1.358354 -1.340163  1.773209  0.379780 -0.503198  1.800499  0.791461   \n",
            "3   1.0 -0.966272 -0.185226  1.792993 -0.863291 -0.010309  1.247203  0.237609   \n",
            "4   2.0 -1.158233  0.877737  1.548718  0.403034 -0.407193  0.095921  0.592941   \n",
            "\n",
            "         V8        V9  ...       V21       V22       V23       V24       V25  \\\n",
            "0  0.098698  0.363787  ... -0.018307  0.277838 -0.110474  0.066928  0.128539   \n",
            "1  0.085102 -0.255425  ... -0.225775 -0.638672  0.101288 -0.339846  0.167170   \n",
            "2  0.247676 -1.514654  ...  0.247998  0.771679  0.909412 -0.689281 -0.327642   \n",
            "3  0.377436 -1.387024  ... -0.108300  0.005274 -0.190321 -1.175575  0.647376   \n",
            "4 -0.270533  0.817739  ... -0.009431  0.798278 -0.137458  0.141267 -0.206010   \n",
            "\n",
            "        V26       V27       V28  Amount  Class  \n",
            "0 -0.189115  0.133558 -0.021053  149.62      0  \n",
            "1  0.125895 -0.008983  0.014724    2.69      0  \n",
            "2 -0.139097 -0.055353 -0.059752  378.66      0  \n",
            "3 -0.221929  0.062723  0.061458  123.50      0  \n",
            "4  0.502292  0.219422  0.215153   69.99      0  \n",
            "\n",
            "[5 rows x 31 columns]\n",
            "         V1        V2        V3        V4        V5        V6        V7  \\\n",
            "0 -1.359807 -0.072781  2.536347  1.378155 -0.338321  0.462388  0.239599   \n",
            "1  1.191857  0.266151  0.166480  0.448154  0.060018 -0.082361 -0.078803   \n",
            "2 -1.358354 -1.340163  1.773209  0.379780 -0.503198  1.800499  0.791461   \n",
            "3 -0.966272 -0.185226  1.792993 -0.863291 -0.010309  1.247203  0.237609   \n",
            "4 -1.158233  0.877737  1.548718  0.403034 -0.407193  0.095921  0.592941   \n",
            "\n",
            "         V8        V9       V10  ...       V21       V22       V23       V24  \\\n",
            "0  0.098698  0.363787  0.090794  ... -0.018307  0.277838 -0.110474  0.066928   \n",
            "1  0.085102 -0.255425 -0.166974  ... -0.225775 -0.638672  0.101288 -0.339846   \n",
            "2  0.247676 -1.514654  0.207643  ...  0.247998  0.771679  0.909412 -0.689281   \n",
            "3  0.377436 -1.387024 -0.054952  ... -0.108300  0.005274 -0.190321 -1.175575   \n",
            "4 -0.270533  0.817739  0.753074  ... -0.009431  0.798278 -0.137458  0.141267   \n",
            "\n",
            "        V25       V26       V27       V28  Amount  Class  \n",
            "0  0.128539 -0.189115  0.133558 -0.021053  149.62      0  \n",
            "1  0.167170  0.125895 -0.008983  0.014724    2.69      0  \n",
            "2 -0.327642 -0.139097 -0.055353 -0.059752  378.66      0  \n",
            "3  0.647376 -0.221929  0.062723  0.061458  123.50      0  \n",
            "4 -0.206010  0.502292  0.219422  0.215153   69.99      0  \n",
            "\n",
            "[5 rows x 30 columns]\n",
            "<pandas.core.indexing._iLocIndexer object at 0x7f84908d0c20>\n",
            "(284807, 30)\n",
            "(199364, 30)\n",
            "(85443, 30)\n"
          ]
        }
      ]
    },
    {
      "cell_type": "markdown",
      "source": [
        "Loading the data into a dictionary\n"
      ],
      "metadata": {
        "id": "apbaKV7aKmj2"
      }
    },
    {
      "cell_type": "code",
      "source": [
        "def load_data():\n",
        "  train = pd.read_csv(\"train.csv\")\n",
        "  test = pd.read_csv(\"test.csv\")\n",
        "  train = train.drop(\"Unnamed: 0\", axis=1)\n",
        "  test = test.drop(\"Unnamed: 0\", axis=1)\n",
        "  \n",
        "  print(train.Class.value_counts())\n",
        "  print(test.Class.value_counts())\n",
        "\n",
        "  data = {}\n",
        "  data[\"train_y\"] = train.pop(\"Class\")\n",
        "  data[\"test_y\"] = test.pop(\"Class\")\n",
        "\n",
        "  scaler = StandardScaler()\n",
        "  train = scaler.fit_transform(train)\n",
        "  test = scaler.transform(test)\n",
        "\n",
        "  data[\"train_x\"] = train\n",
        "  data[\"test_x\"] = test\n",
        "  data[\"scaler\"] = scaler\n",
        "  print(data[\"scaler\"])\n",
        "  return data\n",
        "\n",
        "data = load_data()\n",
        "# print(data[\"scaler\"])\n",
        "# print(data[\"train_y\"].shape)\n",
        "# print(data[\"train_x\"].shape)\n",
        "# print(data[\"train_y\"])\n",
        "\n",
        "\n"
      ],
      "metadata": {
        "colab": {
          "base_uri": "https://localhost:8080/"
        },
        "id": "mqYa9c7IKpno",
        "outputId": "64d39ee2-2a9b-43bc-dbfa-e11cbf4b2dc2"
      },
      "execution_count": null,
      "outputs": [
        {
          "output_type": "stream",
          "name": "stdout",
          "text": [
            "0    199018\n",
            "1       346\n",
            "Name: Class, dtype: int64\n",
            "0    85297\n",
            "1      146\n",
            "Name: Class, dtype: int64\n",
            "StandardScaler()\n"
          ]
        }
      ]
    },
    {
      "cell_type": "markdown",
      "source": [
        "Building the Model"
      ],
      "metadata": {
        "id": "iLGiqvxzN1VL"
      }
    },
    {
      "cell_type": "code",
      "source": [
        "from tensorflow.python import metrics\n",
        "def model(input_features):\n",
        "  # fraud7 with metrics Recall at precision\n",
        "  input = tf.keras.layers.Input(shape=(input_features,))\n",
        "  x = tf.keras.layers.Dense(128, activation='relu', \n",
        "                            kernel_initializer='he_uniform', \n",
        "                            use_bias=True, \n",
        "                            kernel_regularizer = tf.keras.regularizers.l2(0.01))(input)\n",
        "  x = tf.keras.layers.BatchNormalization()(x)\n",
        "  x = tf.keras.layers.Dropout(0.5)(x)\n",
        "  x = tf.keras.layers.Dense(64, activation='relu', \n",
        "                            kernel_initializer='he_uniform', \n",
        "                            use_bias=True,  \n",
        "                            kernel_regularizer=tf.keras.regularizers.l2(0.01))(x)\n",
        "  x = tf.keras.layers.BatchNormalization()(x)\n",
        "  x = tf.keras.layers.Dropout(0.5)(x)\n",
        "  output = tf.keras.layers.Dense(1, activation='sigmoid')(x)\n",
        "  model = tf.keras.Model(inputs =input, outputs=output)\n",
        "  model.compile(optimizer=tf.keras.optimizers.Adam(learning_rate=0.001), \n",
        "                loss = \"binary_crossentropy\", metrics = [\"accuracy\"])\n",
        "  return model\n",
        "\n",
        "m = model(29)\n",
        "\n",
        "print(m.summary())\n",
        "\n",
        "\n",
        "\n",
        "\n",
        "  "
      ],
      "metadata": {
        "id": "ZKW6eb1lN3OY",
        "colab": {
          "base_uri": "https://localhost:8080/"
        },
        "outputId": "7d20a298-4f54-4f71-8ace-895a2393bf35"
      },
      "execution_count": null,
      "outputs": [
        {
          "output_type": "stream",
          "name": "stdout",
          "text": [
            "Model: \"model\"\n",
            "_________________________________________________________________\n",
            " Layer (type)                Output Shape              Param #   \n",
            "=================================================================\n",
            " input_1 (InputLayer)        [(None, 29)]              0         \n",
            "                                                                 \n",
            " dense (Dense)               (None, 128)               3840      \n",
            "                                                                 \n",
            " batch_normalization (BatchN  (None, 128)              512       \n",
            " ormalization)                                                   \n",
            "                                                                 \n",
            " dropout (Dropout)           (None, 128)               0         \n",
            "                                                                 \n",
            " dense_1 (Dense)             (None, 64)                8256      \n",
            "                                                                 \n",
            " batch_normalization_1 (Batc  (None, 64)               256       \n",
            " hNormalization)                                                 \n",
            "                                                                 \n",
            " dropout_1 (Dropout)         (None, 64)                0         \n",
            "                                                                 \n",
            " dense_2 (Dense)             (None, 1)                 65        \n",
            "                                                                 \n",
            "=================================================================\n",
            "Total params: 12,929\n",
            "Trainable params: 12,545\n",
            "Non-trainable params: 384\n",
            "_________________________________________________________________\n",
            "None\n"
          ]
        }
      ]
    },
    {
      "cell_type": "markdown",
      "source": [
        "Training the model"
      ],
      "metadata": {
        "id": "6EcIs3UcZCjo"
      }
    },
    {
      "cell_type": "code",
      "source": [
        "# Creating callback\n",
        "def checkpoint():\n",
        "  tensorboard = tf.keras.callbacks.TensorBoard(log_dir='logs1', \n",
        "                                               write_graph = True, write_grads = False)\n",
        "  early_stopping = tf.keras.callbacks.EarlyStopping(monitor='val_loss', patience=4)\n",
        "  reduce_lr = tf.keras.callbacks.ReduceLROnPlateau(monitor='val_loss', \n",
        "                                                   factor=0.2, patience=4, min_lr=0.0001)\n",
        "  return [tensorboard, early_stopping, reduce_lr]"
      ],
      "metadata": {
        "id": "Mz8CQPHhZEBW"
      },
      "execution_count": null,
      "outputs": []
    },
    {
      "cell_type": "code",
      "source": [
        "# training the data\n",
        "data = load_data()\n",
        "input = data[\"train_x\"].shape[1]\n",
        "print(input)\n",
        "models = model(input_features = input)\n",
        "callbacks = checkpoint()\n",
        "models.fit(x = data[\"train_x\"], y = data[\"train_y\"], batch_size = 64, \n",
        "           epochs=30, verbose=1, validation_split = 0.2, callbacks = callbacks)\n",
        "models.save(\"fraud4.h5\")\n",
        "\n"
      ],
      "metadata": {
        "id": "2pdHC_G0Zg0k",
        "colab": {
          "base_uri": "https://localhost:8080/"
        },
        "outputId": "5f21217c-9280-43e7-c264-6871fd18677b"
      },
      "execution_count": null,
      "outputs": [
        {
          "output_type": "stream",
          "name": "stdout",
          "text": [
            "0    199042\n",
            "1       322\n",
            "Name: Class, dtype: int64\n",
            "0    85273\n",
            "1      170\n",
            "Name: Class, dtype: int64\n",
            "StandardScaler()\n",
            "29\n",
            "Epoch 1/30\n",
            "2493/2493 [==============================] - 14s 5ms/step - loss: 0.4762 - accuracy: 0.9757 - val_loss: 0.0408 - val_accuracy: 0.9992 - lr: 0.0010\n",
            "Epoch 2/30\n",
            "2493/2493 [==============================] - 11s 5ms/step - loss: 0.0258 - accuracy: 0.9988 - val_loss: 0.0261 - val_accuracy: 0.9993 - lr: 0.0010\n",
            "Epoch 3/30\n",
            "2493/2493 [==============================] - 12s 5ms/step - loss: 0.0164 - accuracy: 0.9988 - val_loss: 0.0243 - val_accuracy: 0.9993 - lr: 0.0010\n",
            "Epoch 4/30\n",
            "2493/2493 [==============================] - 12s 5ms/step - loss: 0.0142 - accuracy: 0.9989 - val_loss: 0.0167 - val_accuracy: 0.9992 - lr: 0.0010\n",
            "Epoch 5/30\n",
            "2493/2493 [==============================] - 12s 5ms/step - loss: 0.0120 - accuracy: 0.9989 - val_loss: 0.0142 - val_accuracy: 0.9991 - lr: 0.0010\n",
            "Epoch 6/30\n",
            "2493/2493 [==============================] - 12s 5ms/step - loss: 0.0107 - accuracy: 0.9990 - val_loss: 0.0165 - val_accuracy: 0.9992 - lr: 0.0010\n",
            "Epoch 7/30\n",
            "2493/2493 [==============================] - 12s 5ms/step - loss: 0.0107 - accuracy: 0.9989 - val_loss: 0.0109 - val_accuracy: 0.9992 - lr: 0.0010\n",
            "Epoch 8/30\n",
            "2493/2493 [==============================] - 12s 5ms/step - loss: 0.0105 - accuracy: 0.9989 - val_loss: 0.0125 - val_accuracy: 0.9993 - lr: 0.0010\n",
            "Epoch 9/30\n",
            "2493/2493 [==============================] - 12s 5ms/step - loss: 0.0102 - accuracy: 0.9989 - val_loss: 0.0144 - val_accuracy: 0.9992 - lr: 0.0010\n",
            "Epoch 10/30\n",
            "2493/2493 [==============================] - 13s 5ms/step - loss: 0.0096 - accuracy: 0.9990 - val_loss: 0.0118 - val_accuracy: 0.9993 - lr: 0.0010\n",
            "Epoch 11/30\n",
            "2493/2493 [==============================] - 11s 5ms/step - loss: 0.0095 - accuracy: 0.9990 - val_loss: 0.0104 - val_accuracy: 0.9993 - lr: 0.0010\n",
            "Epoch 12/30\n",
            "2493/2493 [==============================] - 11s 4ms/step - loss: 0.0093 - accuracy: 0.9990 - val_loss: 0.0098 - val_accuracy: 0.9993 - lr: 0.0010\n",
            "Epoch 13/30\n",
            "2493/2493 [==============================] - 12s 5ms/step - loss: 0.0090 - accuracy: 0.9990 - val_loss: 0.0094 - val_accuracy: 0.9992 - lr: 0.0010\n",
            "Epoch 14/30\n",
            "2493/2493 [==============================] - 12s 5ms/step - loss: 0.0094 - accuracy: 0.9990 - val_loss: 0.0090 - val_accuracy: 0.9993 - lr: 0.0010\n",
            "Epoch 15/30\n",
            "2493/2493 [==============================] - 12s 5ms/step - loss: 0.0091 - accuracy: 0.9991 - val_loss: 0.0085 - val_accuracy: 0.9993 - lr: 0.0010\n",
            "Epoch 16/30\n",
            "2493/2493 [==============================] - 12s 5ms/step - loss: 0.0087 - accuracy: 0.9990 - val_loss: 0.0136 - val_accuracy: 0.9965 - lr: 0.0010\n",
            "Epoch 17/30\n",
            "2493/2493 [==============================] - 12s 5ms/step - loss: 0.0088 - accuracy: 0.9990 - val_loss: 0.0107 - val_accuracy: 0.9993 - lr: 0.0010\n",
            "Epoch 18/30\n",
            "2493/2493 [==============================] - 12s 5ms/step - loss: 0.0091 - accuracy: 0.9990 - val_loss: 0.0091 - val_accuracy: 0.9992 - lr: 0.0010\n",
            "Epoch 19/30\n",
            "2493/2493 [==============================] - 12s 5ms/step - loss: 0.0083 - accuracy: 0.9991 - val_loss: 0.0085 - val_accuracy: 0.9993 - lr: 0.0010\n",
            "Epoch 20/30\n",
            "2493/2493 [==============================] - 13s 5ms/step - loss: 0.0056 - accuracy: 0.9992 - val_loss: 0.0067 - val_accuracy: 0.9991 - lr: 2.0000e-04\n",
            "Epoch 21/30\n",
            "2493/2493 [==============================] - 12s 5ms/step - loss: 0.0052 - accuracy: 0.9992 - val_loss: 0.0095 - val_accuracy: 0.9991 - lr: 2.0000e-04\n",
            "Epoch 22/30\n",
            "2493/2493 [==============================] - 12s 5ms/step - loss: 0.0051 - accuracy: 0.9992 - val_loss: 0.0074 - val_accuracy: 0.9993 - lr: 2.0000e-04\n",
            "Epoch 23/30\n",
            "2493/2493 [==============================] - 13s 5ms/step - loss: 0.0049 - accuracy: 0.9992 - val_loss: 0.0078 - val_accuracy: 0.9993 - lr: 2.0000e-04\n",
            "Epoch 24/30\n",
            "2493/2493 [==============================] - 11s 5ms/step - loss: 0.0053 - accuracy: 0.9992 - val_loss: 0.0074 - val_accuracy: 0.9992 - lr: 2.0000e-04\n"
          ]
        }
      ]
    },
    {
      "cell_type": "code",
      "source": [
        "%load_ext tensorboard"
      ],
      "metadata": {
        "id": "-N7Qokh3eyMp"
      },
      "execution_count": null,
      "outputs": []
    },
    {
      "cell_type": "code",
      "source": [
        "%tensorboard --logdir logs1"
      ],
      "metadata": {
        "id": "1aO4EORZezst"
      },
      "execution_count": null,
      "outputs": []
    },
    {
      "cell_type": "code",
      "source": [
        "model = tf.keras.models.load_model(\"fraud4.h5\")\n",
        "prediction = model.predict(data[\"test_x\"])"
      ],
      "metadata": {
        "colab": {
          "base_uri": "https://localhost:8080/"
        },
        "id": "exUpN4q8gsL4",
        "outputId": "335dbc2e-40ea-4d8b-baa2-1e1761f2b439"
      },
      "execution_count": null,
      "outputs": [
        {
          "output_type": "stream",
          "name": "stdout",
          "text": [
            "2671/2671 [==============================] - 5s 2ms/step\n"
          ]
        }
      ]
    },
    {
      "cell_type": "code",
      "source": [
        "df_ans = pd.DataFrame({'Real Class' :data[\"test_y\"]})\n",
        "df_ans['Prediction'] = prediction >0.5\n",
        "df_ans[ df_ans['Real Class'] != df_ans['Prediction'] ]\n",
        "# Convert predictions to binary labels (0 or 1)\n",
        "predictions = prediction > 0.5\n",
        "\n",
        "predictions = predictions.reshape(-1)\n",
        "# Plot a graph to show the correct predictions\n",
        "y_test = data[\"test_y\"]\n",
        "# Plot a graph to show the correct predictions\n",
        "plt.scatter(range(len(predictions)), predictions, c=predictions == y_test)\n",
        "plt.xlabel('Sample Index')\n",
        "plt.ylabel('Prediction')\n",
        "plt.title('Correct Predictions')\n",
        "plt.show()"
      ],
      "metadata": {
        "colab": {
          "base_uri": "https://localhost:8080/",
          "height": 472
        },
        "id": "J0LqwdxX-U53",
        "outputId": "cb0a0de6-13bf-4505-9d91-cd13af8f4a40"
      },
      "execution_count": null,
      "outputs": [
        {
          "output_type": "display_data",
          "data": {
            "text/plain": [
              "<Figure size 640x480 with 1 Axes>"
            ],
            "image/png": "[encoded data removed]"
          },
          "metadata": {}
        }
      ]
    },
    {
      "cell_type": "code",
      "source": [
        "df_ans['Prediction'].value_counts()"
      ],
      "metadata": {
        "id": "V5nHM4Z7BSnv",
        "outputId": "245ee6cd-bcd3-4b89-fe36-78517349525d",
        "colab": {
          "base_uri": "https://localhost:8080/"
        }
      },
      "execution_count": null,
      "outputs": [
        {
          "output_type": "execute_result",
          "data": {
            "text/plain": [
              "False    85304\n",
              "True       139\n",
              "Name: Prediction, dtype: int64"
            ]
          },
          "metadata": {},
          "execution_count": 6
        }
      ]
    },
    {
      "cell_type": "code",
      "source": [
        "from sklearn.metrics import confusion_matrix\n",
        "import seaborn as sns\n",
        "\n",
        "# Compute the confusion matrix\n",
        "cm = confusion_matrix(y_test, predictions)\n",
        "\n",
        "# Plot the confusion matrix using seaborn heatmap\n",
        "sns.heatmap(cm, annot = True, fmt = 'd')\n",
        "plt.xlabel('Predicted label')\n",
        "plt.ylabel('True label')\n",
        "plt.title('Confusion Matrix')\n",
        "plt.show()\n",
        "# fraud 7"
      ],
      "metadata": {
        "id": "FAqBCLYJvSUE",
        "colab": {
          "base_uri": "https://localhost:8080/",
          "height": 472
        },
        "outputId": "33755fe2-59d2-47fd-d677-cc8a99c89379"
      },
      "execution_count": null,
      "outputs": [
        {
          "output_type": "display_data",
          "data": {
            "text/plain": [
              "<Figure size 640x480 with 2 Axes>"
            ],
            "image/png": "[encoded data removed]"
          },
          "metadata": {}
        }
      ]
    },
    {
      "cell_type": "markdown",
      "source": [
        "Testing with single input instances from the test data"
      ],
      "metadata": {
        "id": "bo7u-uhTrYlv"
      }
    },
    {
      "cell_type": "code",
      "source": [
        "test = pd.read_csv(\"test.csv\")\n",
        "test = test.drop(\"Unnamed: 0\", axis=1)\n",
        "\n",
        "test = test.iloc[196]\n",
        "test_y = test.pop(\"Class\")\n",
        "input = test.values\n",
        "print(input)\n",
        "print(test_y)\n"
      ],
      "metadata": {
        "colab": {
          "base_uri": "https://localhost:8080/"
        },
        "id": "pHX25HwSaV-m",
        "outputId": "c83cbece-731d-4992-ff9e-31b26c266c84"
      },
      "execution_count": null,
      "outputs": [
        {
          "output_type": "stream",
          "name": "stdout",
          "text": [
            "[-1.58550537  3.26158455 -4.13742198  2.35709625 -1.40504331 -1.87943719\n",
            " -3.51368687  1.51560675 -1.20716636 -6.23456133  5.45074607 -7.33371407\n",
            "  1.36119332 -6.60806825 -0.48106942 -2.60247787 -4.83511205 -0.55302609\n",
            "  0.35194894  0.31595726  0.50154315 -0.54686881 -0.07658364 -0.42555037\n",
            "  0.12364419  0.32198454  0.26402816  0.13281672  1.        ]\n",
            "1.0\n"
          ]
        }
      ]
    },
    {
      "cell_type": "code",
      "source": [
        "\n",
        "scaler = data[\"scaler\"]\n",
        "print(test_y)\n",
        "input = input.reshape(1,-1)\n",
        "scaled = scaler.transform(input)\n",
        "print(scaled.shape)\n",
        "\n",
        "prediction = model.predict(scaled)\n",
        "# print(predictions)\n",
        "print(prediction)\n",
        "if test_y == (prediction > 0.5):\n",
        "    print(\"The prediction is correct.\")\n",
        "else:\n",
        "    print(\"The prediction is incorrect.\")"
      ],
      "metadata": {
        "colab": {
          "base_uri": "https://localhost:8080/"
        },
        "id": "aHsUeQxNX0va",
        "outputId": "95938187-f377-42a5-9fd8-10ba13f3fc40"
      },
      "execution_count": null,
      "outputs": [
        {
          "output_type": "stream",
          "name": "stdout",
          "text": [
            "1.0\n",
            "(1, 29)\n",
            "1/1 [==============================] - 0s 22ms/step\n",
            "[[0.99998444]]\n",
            "The prediction is correct.\n"
          ]
        },
        {
          "output_type": "stream",
          "name": "stderr",
          "text": [
            "/usr/local/lib/python3.9/dist-packages/sklearn/base.py:439: UserWarning: X does not have valid feature names, but StandardScaler was fitted with feature names\n",
            "  warnings.warn(\n"
          ]
        }
      ]
    },
    {
      "cell_type": "code",
      "source": [
        "xtest = data[\"test_x\"]\n",
        "ytest = data[\"test_y\"]\n",
        "scaler = data[\"scaler\"]\n",
        "# for i in range(len(ytest)):\n",
        "#   if ytest[i] == 1:\n",
        "#     print(i)\n",
        "    \n",
        "\n",
        "xtest_inst = xtest[196:197]\n",
        "ytest_int = ytest[196:197]\n",
        "predictions = model.predict(xtest_inst)\n",
        "print(ytest_int.values[0])\n",
        "print(int(predictions))\n",
        "\n"
      ],
      "metadata": {
        "id": "sW6eES_BjcSz",
        "colab": {
          "base_uri": "https://localhost:8080/"
        },
        "outputId": "eb0de2f9-d224-4ed0-d7c4-21ffe529f317"
      },
      "execution_count": null,
      "outputs": [
        {
          "output_type": "stream",
          "name": "stdout",
          "text": [
            "1/1 [==============================] - 0s 22ms/step\n",
            "1\n",
            "0\n"
          ]
        }
      ]
    },
    {
      "cell_type": "markdown",
      "source": [
        "Hyperparameter Tuning Using random search (Run only once because of the time it takes)"
      ],
      "metadata": {
        "id": "5bx8LV2-z7he"
      }
    },
    {
      "cell_type": "code",
      "source": [
        "# from sklearn.model_selection import RandomizedSearchCV\n",
        "\n",
        "# # specify the hyperparameters and the possible values\n",
        "# def create_model(optimizer='adam'):\n",
        "#     model = tf.keras.Sequential()\n",
        "#     model.add(tf.keras.layers.Dense(128, activation='relu', kernel_initializer='uniform', \n",
        "#                 kernel_regularizer=tf.keras.regularizers.l2(0.01)))\n",
        "#     model.add(tf.keras.layers.Dropout(0.5))\n",
        "#     model.add(tf.keras.layers.Dense(64, activation='relu', \n",
        "#               kernel_initializer='uniform', kernel_regularizer=tf.keras.regularizers.l2(0.01)))\n",
        "#     model.add(tf.keras.layers.Dropout(0.5))\n",
        "#     model.add(tf.keras.layers.Dense(1, activation='sigmoid'))\n",
        "#     model.compile(optimizer=optimizer, loss = \"binary_crossentropy\", metrics = [\"accuracy\"])\n",
        "#     return model\n",
        "\n",
        "# param_grid = {'epochs': [10, 20, 30], 'batch_size': [32, 64, 128], \n",
        "#               'optimizer': ['Adam','RMSprop']}\n",
        "# estimator = tf.keras.wrappers.scikit_learn.KerasClassifier(build_fn=create_model)\n",
        "# grid = RandomizedSearchCV(estimator=estimator, param_distributions=param_grid, n_iter=10,\n",
        "#  cv=3, n_jobs=-1)\n",
        "# grid.fit(data[\"train_x\"], data[\"train_y\"])"
      ],
      "metadata": {
        "id": "9t4tL4MAz7Kf"
      },
      "execution_count": null,
      "outputs": []
    },
    {
      "cell_type": "code",
      "source": [
        "best_params = grid.best_params_\n",
        "print(best_params)"
      ],
      "metadata": {
        "colab": {
          "base_uri": "https://localhost:8080/"
        },
        "id": "lj5-pttPFE6d",
        "outputId": "9d9e8a8f-f3f8-415e-a301-4d7fbaf13348"
      },
      "execution_count": null,
      "outputs": [
        {
          "output_type": "stream",
          "name": "stdout",
          "text": [
            "{'optimizer': 'Adam', 'epochs': 30, 'batch_size': 64}\n"
          ]
        }
      ]
    },
    {
      "cell_type": "markdown",
      "source": [
        "Deploying the model using FLASK API"
      ],
      "metadata": {
        "id": "joCFLcxGTVa7"
      }
    },
    {
      "cell_type": "code",
      "source": [
        "!pip install --upgrade flask-ngrok\n",
        "!pip install pyngrok\n",
        "!ngrok authtoken 1k9L5QgWAlcGov4IeWwaJBsc6gK_7RDCMELZb76jKjMw6y17o"
      ],
      "metadata": {
        "id": "wqPfKejwx3X9",
        "colab": {
          "base_uri": "https://localhost:8080/"
        },
        "outputId": "2eff5546-40db-4bc0-e8bf-6e4e8b6d529a"
      },
      "execution_count": null,
      "outputs": [
        {
          "output_type": "stream",
          "name": "stdout",
          "text": [
            "Looking in indexes: https://pypi.org/simple, https://us-python.pkg.dev/colab-wheels/public/simple/\n",
            "Collecting flask-ngrok\n",
            "  Downloading flask_ngrok-0.0.25-py3-none-any.whl (3.1 kB)\n",
            "Requirement already satisfied: Flask>=0.8 in /usr/local/lib/python3.9/dist-packages (from flask-ngrok) (2.2.3)\n",
            "Requirement already satisfied: requests in /usr/local/lib/python3.9/dist-packages (from flask-ngrok) (2.27.1)\n",
            "Requirement already satisfied: itsdangerous>=2.0 in /usr/local/lib/python3.9/dist-packages (from Flask>=0.8->flask-ngrok) (2.1.2)\n",
            "Requirement already satisfied: Werkzeug>=2.2.2 in /usr/local/lib/python3.9/dist-packages (from Flask>=0.8->flask-ngrok) (2.2.3)\n",
            "Requirement already satisfied: Jinja2>=3.0 in /usr/local/lib/python3.9/dist-packages (from Flask>=0.8->flask-ngrok) (3.1.2)\n",
            "Requirement already satisfied: importlib-metadata>=3.6.0 in /usr/local/lib/python3.9/dist-packages (from Flask>=0.8->flask-ngrok) (6.4.1)\n",
            "Requirement already satisfied: click>=8.0 in /usr/local/lib/python3.9/dist-packages (from Flask>=0.8->flask-ngrok) (8.1.3)\n",
            "Requirement already satisfied: idna<4,>=2.5 in /usr/local/lib/python3.9/dist-packages (from requests->flask-ngrok) (3.4)\n",
            "Requirement already satisfied: charset-normalizer~=2.0.0 in /usr/local/lib/python3.9/dist-packages (from requests->flask-ngrok) (2.0.12)\n",
            "Requirement already satisfied: certifi>=2017.4.17 in /usr/local/lib/python3.9/dist-packages (from requests->flask-ngrok) (2022.12.7)\n",
            "Requirement already satisfied: urllib3<1.27,>=1.21.1 in /usr/local/lib/python3.9/dist-packages (from requests->flask-ngrok) (1.26.15)\n",
            "Requirement already satisfied: zipp>=0.5 in /usr/local/lib/python3.9/dist-packages (from importlib-metadata>=3.6.0->Flask>=0.8->flask-ngrok) (3.15.0)\n",
            "Requirement already satisfied: MarkupSafe>=2.0 in /usr/local/lib/python3.9/dist-packages (from Jinja2>=3.0->Flask>=0.8->flask-ngrok) (2.1.2)\n",
            "Installing collected packages: flask-ngrok\n",
            "Successfully installed flask-ngrok-0.0.25\n",
            "Looking in indexes: https://pypi.org/simple, https://us-python.pkg.dev/colab-wheels/public/simple/\n",
            "Collecting pyngrok\n",
            "  Downloading pyngrok-6.0.0.tar.gz (681 kB)\n",
            "\u001b[2K     \u001b[90m━━━━━━━━━━━━━━━━━━━━━━━━━━━━━━━━━━━━━━\u001b[0m \u001b[32m681.2/681.2 kB\u001b[0m \u001b[31m12.0 MB/s\u001b[0m eta \u001b[36m0:00:00\u001b[0m\n",
            "\u001b[?25h  Preparing metadata (setup.py) ... \u001b[?25l\u001b[?25hdone\n",
            "Requirement already satisfied: PyYAML in /usr/local/lib/python3.9/dist-packages (from pyngrok) (6.0)\n",
            "Building wheels for collected packages: pyngrok\n",
            "  Building wheel for pyngrok (setup.py) ... \u001b[?25l\u001b[?25hdone\n",
            "  Created wheel for pyngrok: filename=pyngrok-6.0.0-py3-none-any.whl size=19879 sha256=e47904e2d75398860a2d2b0c7ea9a1dd16a5739dcdc7e6df1d35d2c3f5d260f2\n",
            "  Stored in directory: /root/.cache/pip/wheels/31/49/9c/44b13823eb256a3b4dff34b972f7a3c7d9910bfef269e59bd7\n",
            "Successfully built pyngrok\n",
            "Installing collected packages: pyngrok\n",
            "Successfully installed pyngrok-6.0.0\n",
            "Authtoken saved to configuration file: /root/.ngrok2/ngrok.yml\n"
          ]
        }
      ]
    },
    {
      "cell_type": "code",
      "source": [
        "from flask import Flask, render_template, request, redirect\n",
        "from werkzeug.utils import secure_filename\n",
        "from flask_ngrok import run_with_ngrok\n",
        "from pyngrok import ngrok\n",
        "import os"
      ],
      "metadata": {
        "id": "LV_BWKiKmPcv"
      },
      "execution_count": null,
      "outputs": []
    },
    {
      "cell_type": "code",
      "source": [
        "!ngrok http 5000 --host-header rewrite"
      ],
      "metadata": {
        "id": "b93NmVa6CJfn"
      },
      "execution_count": null,
      "outputs": []
    },
    {
      "cell_type": "code",
      "source": [
        " # Create static and upload folder before running this code\n",
        "app = Flask(__name__)\n",
        "run_with_ngrok(app)\n",
        "# load your model\n",
        "model = tf.keras.models.load_model(\"fraud4.h5\")\n",
        "scaler = data[\"scaler\"]\n",
        "file_name = []\n",
        "EXT = ['csv']\n",
        "UPLOADS = \"static/upload\"\n",
        "app.config[\"UPLOADS\"] = UPLOADS\n",
        "# check if filename is correct\n",
        "def files(filename):\n",
        "    return '.' in filename and filename.rsplit('.', 1)[1].lower() in EXT\n",
        "@app.route('/', methods=['POST','GET'])\n",
        "def form():\n",
        "    if request.method == \"POST\":\n",
        "      f = request.files[\"file\"]\n",
        "      if f.filename != \"\":\n",
        "        if files(f.filename):\n",
        "          filename = secure_filename(f.filename)\n",
        "          f.save(os.path.join(app.config['UPLOADS'], filename))\n",
        "          file_name.append(os.path.join(app.config['UPLOADS'], filename))\n",
        "          print(file_name)\n",
        "          return redirect('/predict')\n",
        "        else:\n",
        "          return str(\"Not correct filetype\")  \n",
        "    return render_template('form.html')\n",
        "\n",
        "@app.route('/predict', methods=['GET'])\n",
        "def predict():\n",
        "    data = file_name[0]\n",
        "    # print(data)\n",
        "    # get the input values from the file\n",
        "    dat = pd.read_csv(data, index_col=1)\n",
        "    \n",
        "    # convert the input values to a numpy array\n",
        "    input_values = np.array(dat).reshape(1, -1)\n",
        "    print(input_values)\n",
        "    input_values = scaler.transform(input_values)\n",
        "    # make a prediction\n",
        "    prediction = model.predict(input_values)\n",
        "    file_name.pop(0)\n",
        "    # return the prediction\n",
        "    if prediction[0][0] == 1:\n",
        "      return f\"{prediction[0][0]}: Your account has undergone fraudulent transactions. Please contact your bank account manager to take the next steps. Thank you.\"\n",
        "    else:\n",
        "      return f\"{prediction[0][0]}: Your account is fraud free. \"\n",
        "\n",
        "app.run()"
      ],
      "metadata": {
        "id": "quImYd8artqt",
        "colab": {
          "base_uri": "https://localhost:8080/"
        },
        "outputId": "0d234b78-9f87-4fbe-c0f2-97b9f7e25c0a"
      },
      "execution_count": null,
      "outputs": [
        {
          "output_type": "stream",
          "name": "stdout",
          "text": [
            " * Serving Flask app '__main__'\n",
            " * Debug mode: off\n"
          ]
        },
        {
          "output_type": "stream",
          "name": "stderr",
          "text": [
            "INFO:werkzeug:\u001b[31m\u001b[1mWARNING: This is a development server. Do not use it in a production deployment. Use a production WSGI server instead.\u001b[0m\n",
            " * Running on http://127.0.0.1:5000\n",
            "INFO:werkzeug:\u001b[33mPress CTRL+C to quit\u001b[0m\n"
          ]
        },
        {
          "output_type": "stream",
          "name": "stdout",
          "text": [
            " * Running on http://181b-34-170-101-31.ngrok-free.app\n",
            " * Traffic stats available on http://127.0.0.1:4040\n"
          ]
        },
        {
          "output_type": "stream",
          "name": "stderr",
          "text": [
            "INFO:werkzeug:127.0.0.1 - - [23/Apr/2023 21:05:24] \"GET / HTTP/1.1\" 200 -\n",
            "INFO:werkzeug:127.0.0.1 - - [23/Apr/2023 21:05:25] \"\u001b[33mGET /favicon.ico HTTP/1.1\u001b[0m\" 404 -\n"
          ]
        }
      ]
    }
  ]
}